{
 "cells": [
  {
   "cell_type": "markdown",
   "id": "ffbeb86b",
   "metadata": {},
   "source": [
    "# Oppimispäiväkirja 1\n",
    "En osallistunut luennolle, katsoin nauhoitteen jälkikäteen panoptosta. Luentoa ei ollut mahdollista katsoa etänä livenä ja tämän takia päädyin tähän ratkaisuun. Oppimistavoitteeni kurssille on oppia ylipäänsä datatieteestä ja oppia keräämään dataa raapijoita käyttäen ja oppia käsittelemään sitä, luoden uutta tietoa sen pohjalta. Sain luentoa katsoessani idean harjoitustyöhön ohjelmasta, joka raapijoita käyttäen keräisi tietoa asuntojen hinnoista ja vuokrista neliötä kohden ympäri Suomea ja sen jälkeen vertailisi näitä tietoja. Tämän tiedon pohjalta ohjelma sitten suosittelisi parasta aluetta mistä ostaa sijoitusasunto. Ideana tämä kuulostaa hyvin samalta kuin opettajan esimerkki airbnb datasta ja sen hyödyntämisestä, mutta tällä ohjelmalla olisi tarkoitus etsiä paras sijainti sijoitusasunnolle perinteistä vuokraamista varten.\n",
    "\n",
    "Luennolla käytiin läpi, miten kurssi suoritetaan ja mitä pitää tehdä. Itse olin tyytyväinen siihen, että kurssilla ei ole tenttiä vaan se on korvattu oppimispäiväkirjoilla. Tämä sen takia, koska välillä minusta on tuntunut siltä, että jos kurssilla on tentti niin niitä asioita ei välttämättä tule opeteltua kuin vasta itse tenttiä varten ja se taas saattaa aiheuttaa sen, ettei opitut asiat jää kunnolla muistiin. Harjoitustyön idea kuulostaa myös kiinnostavalta. Pidän siitä, että saan siitä mahdollisesti osan portfoliota tulevia työnhakuja varten ja pisteytyksen perusteet on selvästi kerrottu.\n",
    "\n",
    "Tärkeitä asioita mitä opin oli esimerkiksi neljä kokonaisuutta liittyen siihen mitä datatiede on. Viestintä, pitää pystyä viestimään mitä datasta löytää, eli esimerkiksi miksi tämä on tärkeää ja mitä se tarkoittaa. Tilastollista osaamista, jos haluaa alalla työskennellä pitää osata ja ymmärtää tilastollisia menetelmiä. Ohjelmointiosaamista, sitä tarvitaan siihen, että voidaan luoda sovelluksia ja scriptejä, mitä käytetään esimerkiksi datan hakemiseen ja käsittelyyn. Substanssiosaaminen, eli halu kehittää omaa toimintaa datan tarjoaman tiedon pohjalta kysymällä kysymyksiä, esimerkiksi peliyritys voisi miettiä miksi uutta juuri julkaistua peliä ei haeta hakukoneilla, onko mainonnassa ollut puutteita vai eikö pelille ole kysyntää? Hyvä kysymys on kullanarvoinen.\n",
    "\n",
    "Kehityskohteena ei ainakaan vielä tule muuta mieleen kuin se, että luentoja olisi hyvä olla mahdollista seurata livenä myös etänä. Muuten voi helposti käydä niin, että luentoja kasaantuu useampi mitä pitää katsoa, koska ei ole kuitenkaan viikoittaisia palautuksia, mitkä ”pakottaisivat” edistämään kurssia viikoittain.\n",
    "\n",
    "Pääasiassa tällä viikolla opin mitä kurssin läpäisemiseen vaaditaan, eli mitä luentopäiväkirjojen ja harjoitustyön tulee sisältää. Opin myös hieman siitä mitä datatiede on, ymmärtääkseni pohjimmiltaan se on kysymysten kysymistä ja hyvien kysymysten keksimistä. Vielä ei siis kauhean syvälle menty aiheeseen, mutta otettiin pientä ensikosketusta datatieteeseen.\n"
   ]
  },
  {
   "cell_type": "markdown",
   "id": "58c1b79f",
   "metadata": {},
   "source": [
    "# Oppimispäiväkirja 2\n",
    "En osallistunut luennolle, katsoin nauhoitteen jälkikäteen panoptosta. Luentoa ei ollut mahdollista katsoa etänä livenä, eikä minulla mahdollista mennä paikalle, sen takia katsoin luennon nauhoitteelta.\n",
    "\n",
    "Tällä viikolla aiheena oli datan kerääminen ja jalostaminen. Luennolla käytiin läpi eri käsitteitä esimerkiksi ETL/DAD, raapijat/ryömijät, analyysin eri muodot ja pythonin tietotyyppejä. Katsoimme myös esimerkkejä siitä, miten sivustot esimerkiksi verkkokauppa.com ja Wikipedia on rakennettu ja miten ne soveltuisivat raapijoiden/ryömijöiden käyttöön. Käyn mielestäni keskeisiä asioita läpi kahdessa seuraavassa kappaleessa, sen jälkeen käsittelen tärkeitä asioita mitä opin.\n",
    "\n",
    "Raapijat ja ryömijät ovat pythonilla kirjoitettua koodia. Niillä haetaan tietoja nettisivuilta, esimerkiksi voidaan hakea jonkun halutun verkkokaupan tuotteista tietoja ja muodostaa dataa sen pohjalta. Isot toimijat esimerkiksi Amazon pyrkivät estämään näiden käyttöjä muuttamalla HTML:ää eli webbisivun toteutusta. Muuttaminen toimii estävänä toimenpiteenä, koska raapijat/ryömijät toimivat sen pohjalta, että ne luottavat tiettyjen ominaisuuksien olevan tietyissä kohdissa sivuston rakenteessa. Raapijat ja ryömijät ovat hyödyllisiä, mutta niiden käyttöä tulee pohtia tilanteen mukaan eettisyyden ja lain kannalta.\n",
    "\n",
    "ETL on datan lukemista, standardimuotoon saattamista, tietovarastoon viemistä. ETL on huomattavasti pidempi prosessi kuin DAD, ETL voi kestää kuukausia, DAD esimerkiksi alle työpäivän. Erona näissä on se, että ETL on vakiintuneempaa, operatiivista toimintaa ja DAD on tutkimista, uuden oppimista, selvitetään jotain mitä ei vielä tiedetä. Exploration vs Exploitation.\n",
    "\n",
    "Mitä datalla sitten voi tehdä? Datalle voidaan tehdä kuvailevaa analyysiä, eli pyritään selittämään mitä on tapahtunut. Ohjaava analytiikka on esimerkiksi sitä, että verkkokauppa tarjoaa asiakkaalle tuotetta mitä he ajattelevat hänen tulevan ostamaan, jotta hänestä tulisi toistuva asiakas. Diagnosoivalla analytiikalla pyritään selittämään, miksi jotain tapahtui. Voidaan tehdä myös ennustavaa analyysiä eli esimerkiksi voidaan ennustaa tulevia tapahtumia tai ennustetaan jotain asiakasprofiilia. Monia asioita voidaan ennustaa, ennustava analyysi ei ole vain näihin rajattu. \n",
    "\n",
    "Tärkeä asia muistaa on, että ennustamiseen tarvitaan opetusdataa. Itselläni on ollut tilanne missä olen tilannut woltilla ruokaa, mutta se ei ole kuitenkaan saapunut ajallaan vaan reilusti myöhässä. Ennen kuin olen edes ehtinyt olemaan wolttiin yhteydessä niin heiltä on jo tullut pahoitteleva viesti ja pienehkö korvaus. Voisi kuvitella heidän tehneen tämänlaista ennustavaa analyysiä. He tiesivät, että mahdollisesti (ja historian mukaan todennäköisesti) tulen olemaan asiasta yhteydessä ja toimivat ennakoivasti.\n",
    "\n",
    "Käyn tässä kappaleessa läpi muutaman tärkeän asian mitä opin. Datatieteessä 80 % ajasta kuluu aineiston jalostamiseen ja loput 20 % kuluu siihen, että analysoidaan dataa. Tämä oli mielestäni mielenkiintoinen nosto ja ainakin itselläni aiheutti oivalluksen siitä, että tätä kurssia suorittaessa kannattaa nimenomaan keskittyä enemmän siihen, miten dataa jalostetaan sen analysoimisen sijasta. Toki analysoiminen on myös tärkeää, ilman sitä jalostaminen menettää merkityksensä. Toinen tärkeä asia / oivallus mitä opin oli se, ettei raakadataa ei ole olemassa, jos siitä puhutaan, niin puhutaan datan siivoamisesta. Siivoamisella tarkoitetaan datan jalostamista. Totuus kysyttyyn kysymykseen ei löydy välttämättä jalostamattomasta datasta vaan itse kysymyksestä, eli kysymys määrittää vastauksen. Kolmantena mainitsen vielä sen, että myöskään datatieteessä määrä ei korvaa laatua: big data vs smart data.\n",
    "\n",
    "Yksi flippausvinkki mikä tuli mieleen, kun puhuttiin ryömijöistä ja raapijoista oli se, että jos yksi luento omistettaisiin pelkästään niistä puhumiselle niin sen viikon luentopäiväkirja voitaisiin korvata jonkunlaisella harjoituksella aiheeseen liittyen. Se auttaisi tuomaan varmuutta tekemiseen, etenkin harjoitustyötä ajatellen.\n",
    "\n",
    "Opin tällä viikolla ylipäänsä lisää datatieteestä, joten näen päässeeni oppimistavoitteisiini, mutta päällimmäisenä sanoisin mieleen jääneen keskustelun raapijoiden ja ryömijöiden eettisestä ja lainmukaisesta käytöstä.\n"
   ]
  },
  {
   "cell_type": "markdown",
   "id": "fa79b24b",
   "metadata": {},
   "source": [
    "# Oppimispäiväkirja 3\n",
    "En osallistunut luennolla livenä, katsoin sen tallenteena panoptosta. Käytin tämän päiväkirjan kirjoittamiseen luentoa ja siinä esiin tuotuja tietoja. Tällä luentoviikolla käsiteltiin koneoppimista ja sitä, miten se liittyy datatieteeseen, käsittelimme myös piirteitä ja katsoimme myös esimerkkiä ohjelmasta, joka määrittelee, saako asiakas lainaa vai ei. \n",
    "\n",
    "Koneoppimisalgoritmien tyyppejä on ohjattu, ohjaamaton ja vahvistettu ohjaaminen. Ohjattu ja ohjaamaton oppiminen ovat olennaisimmat koneoppimisen periaatteet. Piirteet ovat synonyymi syötteen muuttujalle, piirteiden suunnittelu on tärkeä koneoppimisen osa-alue. Luennolla annetun esimerkin mukaan piirteet ovat esimerkiksi analyysejä ja mittauksia mitä lääkäri tekee määrittääkseen diagnoosin.\n",
    "\n",
    "Käsittelen tässä kappaleessa tärkeitä asioita mitä opin luennolla. Ensimmäinen tärkeä asia mitä opin, on se, että jos tavoitteena on ymmärtää aineistoa tilastollisen analyysin keinoin niin koneoppiminen ei välttämättä ole paras väline vaan tilastolliset menetelmät. Toinen tärkeä oppimani asia on, että piirteiden määrittämisessä ei aina riitä pintapuolinen kertominen mikä piirre on, jos piirrettä halutaan käyttää jossakin muualla. Esimerkiksi jos meillä olisi ohjelma, joka kertoo meille parhaat sijainnit Tampereella yrityksen perustamiselle. Siihen voisimme laittaa yhdeksi hyväksi piirteeksi sen, että ”Ratina” on hyvä alue perustaa yritys. Jos sitten haluamme etsiä hyviä paikkoja toisesta kaupungista esimerkiksi Helsingistä emme voi enää käyttää piirrettä ”Ratina”, vaan meidän pitää miettiä mikä tekee siitä hyvän paikan perustaa yritys, eli mikä oli se syy, minkä takia pidämme ratinaa hyvänä paikkana perustaa yritys. Onko siellä esimerkiksi paljon läpikulkua tai onko se keskeisellä sijainnilla, eli mikä aiheuttaa ajatuksemme siitä, että tämä on otollinen sijainti yritykselle. Kolmantena, konenäkösovellusten eettisyys oli mielestäni kiinnostava ja tärkeä nosto. Olen lukenut, että on olemassa sovelluksia mitkä pystyvät tunnistamaan kuvasta ihmisen seksuaalisen suuntautumisen melko tarkasti (https://www.theguardian.com/technology/2017/sep/07/new-artificial-intelligence-can-tell-whether-youre-gay-or-straight-from-a-photograph), yli 70 % todennäköisyydellä naisten ja yli 80 % miesten kohdalla. Mitä tapahtuisi, jos maa kuten Tšetšenia, jota on syytetty seksuaalisten vähemmistöjen joukkotuhonnasta, saisi tämänlaisen sovelluksen käyttöönsä? Viimeisenä mainitsen vielä yhden esimerkin mikä aiheutti itselläni oivalluksen, kyseessä oli ”Survivorship bias”. Toisen maailmansodan aikana katsottiin lentokoneita, jotka palasivat taistelusta ja missä niissä on luodinreikiä, sitten vahvistettiin niitä kohtia. Niistä ei kuitenkaan ole ollut tietoa, jotka ovat jääneet matkalle, joten päädyttiin vahvistamaan vääriä kohtia, koska näiden koneiden lentäjät ovat ainakin päässeet hengissä takaisin. Tämä on hyvä esimerkki siitä, miten analyysi voi mennä vihkoon sen takia, että on väärä data käytössä ja/tai sitä on tulkittu väärin. Mitä jos tämä olisi aikanaan ymmärretty ja mekaanikot olisivat tarkastelleet lentokoneita ja tutkineet minkä takia näihin kohtiin osuneet luodit eivät aiheuttaneet koneen putoamista ja koittaneet toistaa tätä havaintoa ympäri lentokonetta, tehden siitä todellisesti vahvemman.\n",
    "\n",
    "Yhteenvetona, opin tälläkin viikolla lisää datatieteestä, joten mielestäni pääsin oppimistavoitteisiini. Opin koneoppimisesta ja piirteistä. Päällimmäisenä mieleeni jäi piirteiden määrittämisessä sen oleellisuus ja tärkeys, että pitää miettiä miksi pidämme jotain piirrettä hyvänä, aiemmin mainitsemani ratina esimerkki. Lentokone-esimerkki väärästä analyysista ja huonosta datasta jäi myös vahvasti mieleen.\n"
   ]
  },
  {
   "cell_type": "markdown",
   "id": "d3ada93a",
   "metadata": {},
   "source": [
    "# Oppimispäiväkirja 4\n",
    "En osallistunut opetukseen livenä, katsoin tallenteen panoptosta. Olisi luultavasti ollut hyödyllisempää mennä paikan päälle, mutta valitettavasti en päässyt. Luennolla käsiteltiin harjoitustyötä ja sen tekemistä, mistä sen voisi tehdä ja mitkä ovat hyviä kysymyksiä mitä kysyä sitä tehdessä.\n",
    "\n",
    "Luennolla pienryhmissä tuotettiin ensin ”raakaideoita” ja kirjattiin niitä flingaan. Ideoita mitä muut olivat keksineet ja mitkä äänestettiin suosituimmaksi opiskelijoiden keskuudessa, oli esimerkiksi ”Lyhyen ja pidemmän aikavälin majoituksissa tarpeet ovat aika erilaiset. Millaisia tarpeita voidaan tunnistaa laadukkaalle lyhyen aikavälin tai pidemmän aikavälin majoitukselle?” ja ”Miten segmentoidaan asiakkaat ryhmiin, kuten lapsiperheet, etätyöntekijät, jne., jotta näille kyetään näyttämään ’oikeat’ kohteet?”. Näitä sitten jalostettiin hieman eteenpäin miro:ssa.\n",
    "Ensimmäisenä tärkeänä asiana oli vinkki anacondasta. En itse ole vielä aloittanut harjoitustyötä, joten anacondan esiin nostaminen oli itselleni tärkeää, etenkin kun käytän windowsia enkä ollut vielä saanut Jupyteria toimimaan koneellani, latasin anacondan. Toinen tärkeä asia oli mielestäni se mitä ydinjuttu on, eli kysytään mielenkiintoisia kysymyksiä, mikä on ongelma. Harjoitustyön aihetta miettiessä on kuitenkin tärkeää ottaa myös huomioon se, onko kyseiseen kysymykseen vastaamiseen tarpeeksi dataa saatavilla. Kolmas tärkeä asia oli mielestäni maininta siitä, että omaa harkkatyötä tehtäessä ja suunniteltaessa ei kannata laittaa omaa rimaa sille tasolle, miten muut ovat harjoitustyönsä tehneet, vaan kunhan tekee omasta mielestään hyvän työn.\n",
    "\n",
    "Päällimmäisenä mieleen jäi, ettei kannata liikaa tuijotella muiden tekemiä töitä ja pyrkiä samaan, jos taidot/tieto ei riitä. Kunhan pyrkii tekemään omasta mielestä ja omilla taidoilla hyvän harjoitustyön.\n"
   ]
  },
  {
   "cell_type": "markdown",
   "id": "fc25e127",
   "metadata": {},
   "source": [
    "# Oppimispäiväkirja 5\n",
    "Tällä viikolla meille tuli vieraileva luennoitsija Teemu Mikkonen Futuricelta, osallistuin luentoon livenä etänä. Tässä päiväkirjassa käyn hieman omia ajatuksia läpi siitä mitä luennolla tehtiin ja käsiteltiin.\n",
    "\n",
    "Esimerkkitapauksena luennolla käsiteltiin eduskuntadatan luokittelua, data sisälsi ministerien vastauksia kirjallisiin kysymyksiin. Dataa esikäsiteltiin esimerkiksi muuttamalla alkukirjaimet pieniksi ja poistamalla erikoismerkit ja hukkasanat, sen jälkeen muutettiin sanat perusmuotoon. Tämän jälkeen mallia testailtiin.\n",
    "\n",
    "Luennolla esiteltiin ”google colab” -työkalua. Se on googlen ylläpitämä ilmainen notebook-palvelu ja kuulemma oikein mainio vaihtoehto esimerkiksi koulutöissä, koska sillä on helppo jakaa koodia ja työskennellä yhdessä. Opetettiin myös mitä NLP on, eli datatieteiden erityisala, missä luonnollinen kieli on datalähteenä. Tämän kyseisen erityisalan käyttökohteita on esimerkiksi chatbotit, automaattiset konekäännökset, tekstin luokittelu ja tekstimassojen (korpus) analysointi. \n",
    "\n",
    "Ainoana kehityskohteena olisi luennon tallentaminen, mutta toisaalta pidän myös siitä, että luennolle osallistumisesta sai ”ylimääräisen” pisteen.\n",
    "\n",
    "Alla koodinpätkä, mitä käyttämällä luennolla poistettiin datasta erikoismerkit. Ensin ”splitataan” teksti välilyöntien perusteella ja luodaan tyhjä lista sanoille, mitkä on esikäsitelty. Sen jälkeen for-loopissa käydään ei-esikäsitellyt sanat läpi ja poistetaan kaikki merkit, jotka eivät ole Suomen kielen aakkosissa tai numeroita. Sitten muutetaan väliviivallisten sanojen viivan tilalle välilyönti, poistetaan ylimääräiset välilyönnit sanan ympäriltä ja muutetaan kirjaimet pieniksi. Lopuksi hylätään kaikki merkkijonot, jotka ovat kahta merkkiä pienemmät ja lisätään käsitelty sana aiemmin luotuun tyhjään listaan.\n",
    "\n",
    "words = text.split(\" \")\n",
    "\n",
    "preprocessed_words = [] \n",
    "\n",
    "for word in words:\n",
    "\n",
    "    word = re.sub(\"[^A-Za-z0-9ÄäÖö-]+\", \"\", word) \n",
    "    word = re.sub(\"-\", \" \", word) \n",
    "    word = word.strip().lower() \n",
    "    if len(word) > 2:  \n",
    "        preprocessed_words.append(word) \n",
    "\n",
    "Luento oli kaiken kaikkiaan hyödyllinen, oli mukava nähdä ja kuulla minkälaista työtä datatieteilijät tekevät työelämässä. Luennon pohjalta sain paremmin ymmärrystä siihen missä järjestyksessä ja miten asioita tehdään, kun dataa käsitellään, joten koen sen palvelleen myös oppimistavoitteitani.\n"
   ]
  }
 ],
 "metadata": {
  "kernelspec": {
   "display_name": "Python 3 (ipykernel)",
   "language": "python",
   "name": "python3"
  },
  "language_info": {
   "codemirror_mode": {
    "name": "ipython",
    "version": 3
   },
   "file_extension": ".py",
   "mimetype": "text/x-python",
   "name": "python",
   "nbconvert_exporter": "python",
   "pygments_lexer": "ipython3",
   "version": "3.9.7"
  }
 },
 "nbformat": 4,
 "nbformat_minor": 5
}
